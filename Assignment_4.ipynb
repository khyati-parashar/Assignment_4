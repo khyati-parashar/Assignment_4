{
 "cells": [
  {
   "cell_type": "markdown",
   "metadata": {},
   "source": [
    "# Assignment 4"
   ]
  },
  {
   "cell_type": "markdown",
   "metadata": {},
   "source": [
    "#### 1.1 Write a Python Program(with class concepts) to find the area of the triangle using the below formula.\n",
    "#### area = (s*(s-a)*(s-b)*(s-c)) ** 0.5\n",
    "#### Function to take the length of the sides of triangle from user should be defined in the parent class and function to calculate the area should be defined in subclass."
   ]
  },
  {
   "cell_type": "code",
   "execution_count": 1,
   "metadata": {},
   "outputs": [],
   "source": [
    "class Polygon:\n",
    "    \n",
    "    def __init__(self, sides):\n",
    "        self.sides = sides\n",
    "        self.side_len = [0 for i in range(self.sides)]\n",
    "        \n",
    "    def side_length(self):\n",
    "        self.side_len = [float(input(f\"Enter length of side {i+1} :   \" )) for i in range(self.sides)]\n",
    "        "
   ]
  },
  {
   "cell_type": "code",
   "execution_count": 2,
   "metadata": {},
   "outputs": [],
   "source": [
    "class Triangle(Polygon):\n",
    "    \n",
    "    def __init__(self):\n",
    "        super().__init__(3)\n",
    "        \n",
    "    def Area(self):\n",
    "        a,b,c = self.side_len             \n",
    "        # semi-perimeter\n",
    "        s = (a + b + c) / 2     \n",
    "        # area\n",
    "        area = (s*(s-a)*(s-b)*(s-c)) ** 0.5\n",
    "        print('The area of the triangle is %0.2f' %area)\n",
    "        "
   ]
  },
  {
   "cell_type": "code",
   "execution_count": 3,
   "metadata": {},
   "outputs": [],
   "source": [
    "# instantiation \n",
    "t = Triangle()"
   ]
  },
  {
   "cell_type": "code",
   "execution_count": 4,
   "metadata": {},
   "outputs": [
    {
     "name": "stdout",
     "output_type": "stream",
     "text": [
      "Enter length of side 1 :   55\n",
      "Enter length of side 2 :   45\n",
      "Enter length of side 3 :   65\n"
     ]
    }
   ],
   "source": [
    "# taking the input of length of each side \n",
    "t.side_length()"
   ]
  },
  {
   "cell_type": "code",
   "execution_count": 5,
   "metadata": {},
   "outputs": [
    {
     "name": "stdout",
     "output_type": "stream",
     "text": [
      "The area of the triangle is 1220.19\n"
     ]
    }
   ],
   "source": [
    "# displaying the area of the triangle\n",
    "t.Area()"
   ]
  },
  {
   "cell_type": "code",
   "execution_count": null,
   "metadata": {},
   "outputs": [],
   "source": []
  },
  {
   "cell_type": "markdown",
   "metadata": {},
   "source": [
    "#### 1.2 Write a function filter_long_words() that takes a list of words and an integer n and returns the list of words that are longer than n."
   ]
  },
  {
   "cell_type": "code",
   "execution_count": 6,
   "metadata": {},
   "outputs": [],
   "source": [
    "def filter_long_words(word_list, length):\n",
    "    \n",
    "    new_list=[]\n",
    "    \n",
    "    for word in word_list:\n",
    "        if len(word) > length:\n",
    "            new_list.append(word)\n",
    "            \n",
    "    print(f\"Now the new list is {new_list}\")\n",
    "            "
   ]
  },
  {
   "cell_type": "code",
   "execution_count": 7,
   "metadata": {},
   "outputs": [
    {
     "name": "stdout",
     "output_type": "stream",
     "text": [
      "Now the new list is ['khya', 'khyat', 'khyati']\n"
     ]
    }
   ],
   "source": [
    "words = [\"k\",\"kh\",\"khy\",\"khya\",\"khyat\",\"khyati\"]\n",
    "filter_long_words(words, 3)"
   ]
  },
  {
   "cell_type": "code",
   "execution_count": null,
   "metadata": {},
   "outputs": [],
   "source": []
  },
  {
   "cell_type": "markdown",
   "metadata": {},
   "source": [
    "#### 2.1 Write a Python program using function concept that maps list of words into a list of integers representing the lengths of the corresponding words."
   ]
  },
  {
   "cell_type": "code",
   "execution_count": 8,
   "metadata": {},
   "outputs": [],
   "source": [
    "def len_of_word(list_of_word):\n",
    "    \n",
    "    len_of_word = []\n",
    "    \n",
    "    for word in list_of_word:\n",
    "        len_of_word.append(len(word))\n",
    "        \n",
    "    print(f\"The list that mapped the len of words is {len_of_word}\")\n",
    "        "
   ]
  },
  {
   "cell_type": "code",
   "execution_count": 9,
   "metadata": {},
   "outputs": [
    {
     "name": "stdout",
     "output_type": "stream",
     "text": [
      "The list that mapped the len of words is [1, 2, 6, 3, 5, 4]\n"
     ]
    }
   ],
   "source": [
    "words = [\"k\",\"kh\",\"khyati\",\"khy\",\"khyat\",\"khya\"]\n",
    "len_of_word(words)"
   ]
  },
  {
   "cell_type": "code",
   "execution_count": null,
   "metadata": {},
   "outputs": [],
   "source": []
  },
  {
   "cell_type": "markdown",
   "metadata": {},
   "source": [
    "#### 2.2 Write a Python function which takes a character (i.e. a string of length 1) and returns True if it is a vowel, False otherwise."
   ]
  },
  {
   "cell_type": "code",
   "execution_count": 10,
   "metadata": {},
   "outputs": [],
   "source": [
    "def list_of_char(char_list):\n",
    "    \n",
    "    bool_list = []\n",
    "    \n",
    "    vowel = ['a','e','i','o','u']\n",
    "    \n",
    "    for letter in char_list:\n",
    "        if letter in vowel:\n",
    "            bool_list.append(True)\n",
    "\n",
    "        else:\n",
    "            bool_list.append(False)\n",
    "            \n",
    "    print()    \n",
    "    print(f\"The bool list {bool_list}\")"
   ]
  },
  {
   "cell_type": "code",
   "execution_count": 11,
   "metadata": {},
   "outputs": [
    {
     "name": "stdout",
     "output_type": "stream",
     "text": [
      "\n",
      "The bool list [True, False, False, True, False, True, False]\n"
     ]
    }
   ],
   "source": [
    "#       [True, False, False, True, False, True, False]\n",
    "chars = ['a','v','c','i','z','o','p']  \n",
    "list_of_char(chars)"
   ]
  },
  {
   "cell_type": "code",
   "execution_count": null,
   "metadata": {},
   "outputs": [],
   "source": [
    "."
   ]
  }
 ],
 "metadata": {
  "kernelspec": {
   "display_name": "Python 3",
   "language": "python",
   "name": "python3"
  },
  "language_info": {
   "codemirror_mode": {
    "name": "ipython",
    "version": 3
   },
   "file_extension": ".py",
   "mimetype": "text/x-python",
   "name": "python",
   "nbconvert_exporter": "python",
   "pygments_lexer": "ipython3",
   "version": "3.8.2"
  }
 },
 "nbformat": 4,
 "nbformat_minor": 4
}
